{
  "nbformat": 4,
  "nbformat_minor": 0,
  "metadata": {
    "colab": {
      "provenance": [],
      "authorship_tag": "ABX9TyMRPiUxisHwlVLjBdc01OWw",
      "include_colab_link": true
    },
    "kernelspec": {
      "name": "python3",
      "display_name": "Python 3"
    },
    "language_info": {
      "name": "python"
    }
  },
  "cells": [
    {
      "cell_type": "markdown",
      "metadata": {
        "id": "view-in-github",
        "colab_type": "text"
      },
      "source": [
        "<a href=\"https://colab.research.google.com/github/qassasahmed/automata-regex/blob/main/lab-5/lab_5.ipynb\" target=\"_parent\"><img src=\"https://colab.research.google.com/assets/colab-badge.svg\" alt=\"Open In Colab\"/></a>"
      ]
    },
    {
      "cell_type": "markdown",
      "source": [
        "# 0 Python's re module\n",
        "\n",
        "* Most letters and characters will simply match themselves.\n",
        "* Metacharacters do not match themselves.\n",
        "* Special sequences beginning with `\\`\n"
      ],
      "metadata": {
        "id": "afn9cDJiL45t"
      }
    }
  ]
}
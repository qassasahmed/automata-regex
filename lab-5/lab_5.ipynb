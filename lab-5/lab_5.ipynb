{
  "nbformat": 4,
  "nbformat_minor": 0,
  "metadata": {
    "colab": {
      "provenance": [],
      "authorship_tag": "ABX9TyOSJ82QMXTBAz7jtur9PCFf",
      "include_colab_link": true
    },
    "kernelspec": {
      "name": "python3",
      "display_name": "Python 3"
    },
    "language_info": {
      "name": "python"
    }
  },
  "cells": [
    {
      "cell_type": "markdown",
      "metadata": {
        "id": "view-in-github",
        "colab_type": "text"
      },
      "source": [
        "<a href=\"https://colab.research.google.com/github/qassasahmed/automata-regex/blob/main/lab-5/lab_5.ipynb\" target=\"_parent\"><img src=\"https://colab.research.google.com/assets/colab-badge.svg\" alt=\"Open In Colab\"/></a>"
      ]
    },
    {
      "cell_type": "markdown",
      "source": [
        "# 0 Python's re module\n",
        "\n",
        "* Most letters and characters will simply match themselves.\n",
        "* Metacharacters do not match themselves.\n",
        "* Special sequences beginning with `\\`\n"
      ],
      "metadata": {
        "id": "afn9cDJiL45t"
      }
    },
    {
      "cell_type": "markdown",
      "source": [
        "# Example 1\n",
        "Using re module, write a python function that matches a string that has an a followed by three 'b'.  \n",
        "* The pattern itself is defined within `r''` **(raw string notation)** to avoid escaping special characters within the string.\n",
        "* `^`: Matches the beginning of the string.\n",
        "* `a`: Matches the character \"a\" exactly once.\n",
        "* `b`: Matches the character \"b\" exactly once.\n",
        "* `{3}`: Quantifier that matches the preceding character (\"b\" in this case) exactly 3 times.\n",
        "* `$`: Matches the end of the string."
      ],
      "metadata": {
        "id": "b0qVEN6oN1yo"
      }
    },
    {
      "cell_type": "code",
      "source": [
        "import re\n",
        "def check_string5(string):\n",
        "    pattern = re.compile(r'^ab{3}$')\n",
        "    return 'valid' if pattern.match(string) else 'invalid'"
      ],
      "metadata": {
        "id": "z6Bsl4Y7Njw9"
      },
      "execution_count": null,
      "outputs": []
    },
    {
      "cell_type": "markdown",
      "source": [],
      "metadata": {
        "id": "j-MJwpn5Ns25"
      }
    }
  ]
}